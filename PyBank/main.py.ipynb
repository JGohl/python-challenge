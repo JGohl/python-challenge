{
 "cells": [
  {
   "cell_type": "code",
   "execution_count": 3,
   "metadata": {},
   "outputs": [
    {
     "name": "stdout",
     "output_type": "stream",
     "text": [
      "Financial Analysis\n",
      "---------------------------\n",
      "Total Months: 86\n",
      "Total: $38382578\n",
      "Average Change: $-2315.12\n",
      "Greatest Increase in Profits: Feb-2012 ($1926159)\n",
      "Greatest Decrease in Profits: Sep-2013 ($-2196167)\n"
     ]
    }
   ],
   "source": [
    "import os\n",
    "import csv\n",
    "\n",
    "budget_data = os.path.join(\"..\\PyBankResources\", \"budget_data.csv\")\n",
    "\n",
    "with open (budget_data, newline=\"\") as csvfile:\n",
    "    csvreader = csv.reader(csvfile, delimiter=\",\")\n",
    "    next(csvreader, None)\n",
    "    month_count = 0\n",
    "    month_change = 0\n",
    "    net_amount = 0\n",
    "    this_month = 0\n",
    "    last_month = 0\n",
    "    monthly_value_change = {}\n",
    "    month_container = str\n",
    "    for row in csvreader:\n",
    "        last_month = this_month\n",
    "        month_count += 1\n",
    "        net_amount += int(row[1])\n",
    "        this_month = int(row[1])\n",
    "        value_change = this_month - last_month\n",
    "        if last_month != 0:\n",
    "            monthly_value_change.update({row[0]: value_change})        \n",
    "    monthly_value_change_average = round(sum(monthly_value_change.values()) / float(len(monthly_value_change)),2)\n",
    "    \n",
    "    greatest_increase = max(monthly_value_change.values())\n",
    "    greatest_increase_month = max(monthly_value_change, key=monthly_value_change.get)\n",
    "    greatest_decrease = min(monthly_value_change.values())\n",
    "    greatest_decrease_month = min(monthly_value_change, key=monthly_value_change.get)\n",
    "\n",
    "\n",
    "print(\"Financial Analysis\")\n",
    "print(\"---------------------------\")\n",
    "print(\"Total Months: \" + str(month_count))\n",
    "print(\"Total: $\" + str(net_amount))\n",
    "print(\"Average Change: $\" + str(monthly_value_change_average))\n",
    "print(\"Greatest Increase in Profits: \" + str(greatest_increase_month) + \" ($\" + str(greatest_increase) + \")\")\n",
    "print(\"Greatest Decrease in Profits: \" + str(greatest_decrease_month) + \" ($\" + str(greatest_decrease) + \")\")\n",
    "\n",
    "f = open(\"PyBankOutput.txt\", \"w\")\n",
    "\n",
    "print(\"Financial Analysis\", file=f)\n",
    "print(\"---------------------------\", file=f)\n",
    "print(\"Total Months: \" + str(month_count), file=f)\n",
    "print(\"Total: $\" + str(net_amount), file=f)\n",
    "print(\"Average Change: $\" + str(monthly_value_change_average), file=f)\n",
    "print(\"Greatest Increase in Profits: \" + str(greatest_increase_month) + \" ($\" + str(greatest_increase) + \")\", file=f)\n",
    "print(\"Greatest Decrease in Profits: \" + str(greatest_decrease_month) + \" ($\" + str(greatest_decrease) + \")\", file=f)\n",
    "\n",
    "f.close()\n"
   ]
  },
  {
   "cell_type": "code",
   "execution_count": null,
   "metadata": {},
   "outputs": [],
   "source": []
  }
 ],
 "metadata": {
  "kernelspec": {
   "display_name": "Python 3",
   "language": "python",
   "name": "python3"
  },
  "language_info": {
   "codemirror_mode": {
    "name": "ipython",
    "version": 3
   },
   "file_extension": ".py",
   "mimetype": "text/x-python",
   "name": "python",
   "nbconvert_exporter": "python",
   "pygments_lexer": "ipython3",
   "version": "3.6.5"
  }
 },
 "nbformat": 4,
 "nbformat_minor": 2
}
